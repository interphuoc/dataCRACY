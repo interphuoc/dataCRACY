{
  "nbformat": 4,
  "nbformat_minor": 0,
  "metadata": {
    "colab": {
      "name": "Home Assignment Task 2.ipynb",
      "provenance": [],
      "authorship_tag": "ABX9TyOGKRoYQnrRj+n9g4Om5y+Z",
      "include_colab_link": true
    },
    "kernelspec": {
      "display_name": "Python 3",
      "name": "python3"
    },
    "language_info": {
      "name": "python"
    }
  },
  "cells": [
    {
      "cell_type": "markdown",
      "metadata": {
        "id": "view-in-github",
        "colab_type": "text"
      },
      "source": [
        "<a href=\"https://colab.research.google.com/github/interphuoc/dataCRACY/blob/master/Home_Assignment_Task_2.ipynb\" target=\"_parent\"><img src=\"https://colab.research.google.com/assets/colab-badge.svg\" alt=\"Open In Colab\"/></a>"
      ]
    },
    {
      "cell_type": "code",
      "metadata": {
        "colab": {
          "base_uri": "https://localhost:8080/"
        },
        "id": "kELqHAy0IerY",
        "outputId": "75b020ad-a27c-49d5-c390-0bcdf4d63311"
      },
      "source": [
        "# Python Basic - Your first program\n",
        "# This program says hello and asks for my name.\n",
        "\n",
        "print('Hello, world!')\n",
        "print('What is your name?') # ask for their name\n",
        "myName = input()\n",
        "print('It is good to meet you, ' + myName)\n",
        "print('The length of your name is:')\n",
        "print(len(myName))\n",
        "print('What is your age?') # ask for their age\n",
        "myAge = input()\n",
        "print('You will be ' + str(int(myAge) + 1) + ' in a year.')"
      ],
      "execution_count": null,
      "outputs": [
        {
          "output_type": "stream",
          "text": [
            "Hello, world!\n",
            "What is your name?\n",
            "Phuoc\n",
            "It is good to meet you, Phuoc\n",
            "The length of your name is:\n",
            "5\n",
            "What is your age?\n",
            "22\n",
            "You will be 23 in a year.\n"
          ],
          "name": "stdout"
        }
      ]
    },
    {
      "cell_type": "code",
      "metadata": {
        "id": "rztVpkBjLloH",
        "colab": {
          "base_uri": "https://localhost:8080/"
        },
        "outputId": "56d758d0-d34b-44ac-e16f-50e28e95daab"
      },
      "source": [
        "# Flow Control - A Short Program: Rock, Paper, Scissors\n",
        "import random\n",
        "import os\n",
        "\n",
        "print('ROCK, PAPER, SCISSORS')\n",
        "\n",
        "# These variables keep track of the number of wins, losses and ties\n",
        "wins = 0\n",
        "losses = 0\n",
        "ties = 0\n",
        "\n",
        "while True: # The main game loop.\n",
        "  print('%s Wins, %s Losses, %s Ties' % (wins, losses, ties))\n",
        "  while True: # The player input loop.\n",
        "    print('Enter your move: (r)ock (p)aper (s)cissors or (q)uit')\n",
        "    playerMove = input()\n",
        "    if playerMove == 'q':\n",
        "      os._exit(1) # Quit the program.\n",
        "    if playerMove == 'r' or playerMove == 'p' or playerMove == 's':\n",
        "      break # Break out of the player input loop.\n",
        "    print('Type one of r, p, s, or q.')\n",
        "\n",
        "  # Display what the player chose:\n",
        "  if playerMove == 'r':\n",
        "    print('ROCK versus...')\n",
        "  elif playerMove == 'p':\n",
        "    print('PAPER versus...')\n",
        "  elif playerMove == 's':\n",
        "    print('SCISSORS versus...')\n",
        "\n",
        "  # Display what the computer chose:\n",
        "  randomNumber = random.randint(1, 3)\n",
        "  if randomNumber == 1:\n",
        "    computerMove = 'r'\n",
        "    print('ROCK')\n",
        "  elif randomNumber == 2:\n",
        "    computerMove = 'p'\n",
        "    print('PAPER')\n",
        "  elif randomNumber == 3:\n",
        "    computerMove = 's'\n",
        "    print('SCISSORS')\n",
        "\n",
        "  # Display and record the win/loss/tie:\n",
        "  if playerMove == computerMove:\n",
        "    print('It is a tie!')\n",
        "    ties = ties + 1\n",
        "  elif playerMove == 'r' and computerMove == 's':\n",
        "    print('You win!')\n",
        "    wins = wins + 1\n",
        "  elif playerMove == 'p' and computerMove == 'r':\n",
        "    print('You win!')\n",
        "    wins = wins + 1\n",
        "  elif playerMove == 's' and computerMove == 'p':\n",
        "    print('You win!')\n",
        "    wins = wins + 1\n",
        "  elif playerMove == 'r' and computerMove == 'p':\n",
        "    print('You lose!')\n",
        "    losses = losses + 1\n",
        "  elif playerMove == 'p' and computerMove == 's':\n",
        "    print('You lose!')\n",
        "    losses = losses + 1\n",
        "  elif playerMove == 's' and computerMove == 'r':\n",
        "    print('You lose!')\n",
        "    losses = losses + 1"
      ],
      "execution_count": null,
      "outputs": [
        {
          "output_type": "stream",
          "text": [
            "ROCK, PAPER, SCISSORS\n",
            "0 Wins, 0 Losses, 0 Ties\n",
            "Enter your move: (r)ock (p)aper (s)cissors or (q)uit\n",
            "r\n",
            "ROCK versus...\n",
            "SCISSORS\n",
            "You win!\n",
            "1 Wins, 0 Losses, 0 Ties\n",
            "Enter your move: (r)ock (p)aper (s)cissors or (q)uit\n",
            "p\n",
            "PAPER versus...\n",
            "PAPER\n",
            "It is a tie!\n",
            "1 Wins, 0 Losses, 1 Ties\n",
            "Enter your move: (r)ock (p)aper (s)cissors or (q)uit\n",
            "q\n"
          ],
          "name": "stdout"
        }
      ]
    },
    {
      "cell_type": "code",
      "metadata": {
        "id": "rRindWg9fVbN",
        "colab": {
          "base_uri": "https://localhost:8080/"
        },
        "outputId": "ffb54330-ed1b-4f26-c6e6-62a7fb6974b9"
      },
      "source": [
        "# Fuctions - A Short Program: Zigzag\n",
        "import time, os\n",
        "indent = 0 # How many spaces to indent.\n",
        "indentIncreasing  = True # Whether the indentation is increasing or not.\n",
        "\n",
        "try:\n",
        "  while True: # The main program loop.\n",
        "    print(' ' * indent, end ='')\n",
        "    print('*********')\n",
        "    time.sleep(0.1) # Pause for a 1/10 of a second.\n",
        "\n",
        "    if indentIncreasing:\n",
        "      # Increase the number of spaces:\n",
        "      indent = indent + 1\n",
        "      if indent == 5:\n",
        "        # Change direction:\n",
        "        indentIncreasing = False\n",
        "    else:\n",
        "      # Decrease the number of spaces:\n",
        "      indent = indent - 1\n",
        "      if indent == 0:\n",
        "        # Change direction:\n",
        "        indentIncreasing = True\n",
        "except KeyboardInterrupt:\n",
        "  os._exit(1)"
      ],
      "execution_count": null,
      "outputs": [
        {
          "output_type": "stream",
          "text": [
            "*********\n",
            " *********\n",
            "  *********\n",
            "   *********\n",
            "    *********\n",
            "     *********\n",
            "    *********\n",
            "   *********\n",
            "  *********\n",
            " *********\n",
            "*********\n",
            " *********\n",
            "  *********\n",
            "   *********\n",
            "    *********\n",
            "     *********\n",
            "    *********\n"
          ],
          "name": "stdout"
        }
      ]
    },
    {
      "cell_type": "code",
      "metadata": {
        "colab": {
          "base_uri": "https://localhost:8080/"
        },
        "id": "6eIWxcMuvOph",
        "outputId": "c4cf6685-de56-408a-913e-88eced646e78"
      },
      "source": [
        "# Lists - A Short Program: Conway’s Game of Life\n",
        "import random, time, copy, os\n",
        "WIDTH = 60\n",
        "HEIGHT = 20\n",
        "\n",
        "# Create a list of list for the cells:\n",
        "nextCells = []\n",
        "for x in range(WIDTH):\n",
        "  column = [] # Create a new column.\n",
        "  for y in range(HEIGHT):\n",
        "    if random.randint(0, 1) == 0:\n",
        "      column.append('#') # Add a living cell.\n",
        "    else:\n",
        "      column.append(' ') # Add a dead cell.\n",
        "  nextCells.append(column) # nextCells is a list of column lists.\n",
        "\n",
        "try:\n",
        "  while True: # Main program loop.\n",
        "    print('\\n\\n\\n\\n\\n') # Seperate each step with newlines.\n",
        "    currentCells = copy.deepcopy(nextCells)\n",
        "\n",
        "    # Print currentCells on the screen:\n",
        "    for y in range(HEIGHT):\n",
        "      for x in range(WIDTH):\n",
        "        print(currentCells[x][y], end='') # Print the # or space\n",
        "      print() # Print a new line at the end of the row\n",
        "    # Calculate the next step's cells based on current step's cells:\n",
        "    for x in range(WIDTH):\n",
        "      for y in range(HEIGHT):\n",
        "        # Get neighboring coordinates:\n",
        "        # '% WIDTH' ensures leftCoord is always between 0 and WIDTH - 1\n",
        "        leftCoord = (x - 1) % WIDTH\n",
        "        rightCoord = (x + 1) % WIDTH\n",
        "        aboveCoord = (y - 1) % HEIGHT\n",
        "        belowCoord = (y + 1) % HEIGHT\n",
        "        # Count number of living neighbors:\n",
        "        numNeighbors = 0\n",
        "        if currentCells[leftCoord][aboveCoord] == '#':\n",
        "          numNeighbors += 1 # Top-left neighbor is alive.\n",
        "        if currentCells[x][aboveCoord] == '#':\n",
        "          numNeighbors += 1 # Top neighbor is alive.\n",
        "        if currentCells[rightCoord][aboveCoord] == '#':\n",
        "          numNeighbors += 1 # Top-right neighbor is alive.\n",
        "        if currentCells[leftCoord][y] == '#':\n",
        "          numNeighbors += 1 # Left neighbor is alive.\n",
        "        if currentCells[leftCoord][belowCoord] == '#':\n",
        "          numNeighbors += 1 # Bottom-left neighbor is alive.\n",
        "        if currentCells[x][belowCoord] == '#':\n",
        "          numNeighbors += 1 # Bottom neighbor is alive.\n",
        "        if currentCells[rightCoord][belowCoord] == '#':\n",
        "          numNeighbors += 1 # Bottom-right is alive.\n",
        "        # Set cell based on Conway's Game of Life rules:\n",
        "        if currentCells[x][y] == '#' and (numNeighbors == 2 or numNeighbors == 3):\n",
        "          # Living cells with 2 or 3 neighbors stay alive:\n",
        "          nextCells[x][y] = '#'\n",
        "        elif currentCells[x][y] == ' ' and numNeighbors == 3:\n",
        "          # Dead cells with 3 neighbors become alive:\n",
        "          nextCells[x][y] = '#'\n",
        "        else:\n",
        "          # Everything else dies or stays dead:\n",
        "          nextCells[x][y] = ' '\n",
        "    time.sleep(1) # Add a 1-second pause to reduce flickering\n",
        "except KeyboardInterrupt:\n",
        "  os._exit(1)"
      ],
      "execution_count": null,
      "outputs": [
        {
          "output_type": "stream",
          "text": [
            "\n",
            "\n",
            "\n",
            "\n",
            "\n",
            "\n",
            " # #### ###    ###   ####  ####  ##   ###    ## ## #  ## #  \n",
            "# #  ##  ## # ###########   ####   #   ##   # #  ## # ## ## \n",
            "## # #    #    ###   #####  ###  ## ###  ##   ### ##     #  \n",
            "#  ######  ### ## #  ##     ##     #   ######## # # ##    # \n",
            "# # #### # # #  #    #### # # # # ##    #  #  ##  ## #  #   \n",
            "   ### ###  # # #  # ###   # ## #     ##    ##  ### ##  ## #\n",
            " #  #    #  ## ####  ## #    #  #   #  ##    #    ### #  #  \n",
            " # ### ####         # ## # ##          #  # ### # #   ### ##\n",
            "##  ## #  ###  #  ##           ## ##  ###    ##       ##  ##\n",
            " #    ##   ###### ###   # #   # #  ### # ####   # #  ###  ##\n",
            "#   ##    ##  #  #### #  # # #    ## ##    #### #   #  # # #\n",
            " ####  # #  #  ### # ####   ## # # ####  #   ##   # #### ## \n",
            " ##  ###### ##  #        ##  ##  #     #   #  ## ###     ###\n",
            "###  ###  # #  ## ## #### ##### ##    ###   ## #  ####    ##\n",
            "##    # ####   ####   # #### ### ### ### #     ######## # ##\n",
            "   #####    # # ## ###       # ####  #   # ## ###  # ###  ##\n",
            "##     #       ##  #     ###    ########  ###   ####    # ##\n",
            "## # ##   #   #    #  ###   ## #  #  ###    # ##    #  #    \n",
            " ####   #  # #  ##  ######     # ## ## ## ## #  ### #    ## \n",
            " ###### # ####   #  #  #    ##  ## #### # ##  # #   ###  #  \n",
            "\n",
            "\n",
            "\n",
            "\n",
            "\n",
            "\n",
            "        #     ##           #    ##   ##    # ## # ##     #  \n",
            "#      #   #  #   # #      #   ##  ##               # ## ## \n",
            "# ##    ###             ##     #  ### #       # # #   #  #  \n",
            "# ##   #########           ##  #     # ##  ###  #   ##     #\n",
            "# #      ###    #   #   #  #  ##   #  #   #   #   #   # # ##\n",
            "## #   # #    #     #    # #### #  #        ##   #    # ##  \n",
            "#            # ######   # ## ##       ###  #   ## # # #    #\n",
            " ###  # ##   ###   #####    #  ### #  #     #     #  ## ### \n",
            " #  #    ##   ### #  # #####   ##  #  ##      #      #   #  \n",
            " #    ##     ####    #    #   ###       # ##   #     #      \n",
            "   ### ## #           # ## ### ## #    ### #  ##   ##    # #\n",
            " ###   #    #  ##  ######   #    # ### #  ##    ### #### #  \n",
            "    ##   ## ###    #     ##      #  #          # #       #  \n",
            "     #      ## #  ##  ##        #            #        #     \n",
            "   #    ### ##          ###        # #   ###     #     # #  \n",
            "     ##  ##   #    ###  #   ## #        ## ##        ## #   \n",
            " # #   #     # ##### ###   # # #   ##  ## #     #### # ## # \n",
            "   ## ##      #  # # ##        #         #   # #    #   #   \n",
            "#      #  #  ##  ## ##   #    ## #      ### ##  ## ## #   # \n",
            " #    # # ######  # #    #  #   #  ##     ## ##    #######  \n",
            "\n",
            "\n",
            "\n",
            "\n",
            "\n",
            "\n",
            "       ####                ##  ####  #     ####             \n",
            " #     #      ##               #  ##  #      ##   ##   #### \n",
            "# ##   #       #          ###  #   # ###    #      ## ## #  \n",
            "  #         #  #        ##  # ### # ####     ###     ### ## \n",
            "       #       #          #   # #   # ##      #      ###### \n",
            "         #    #   # ##   # #          #      ### ### ##  #  \n",
            "   #   # #   # ## #   # # #      ##    #   # #  ###   #   ##\n",
            "####     ##  #       ##     ######      #      #   # ##  ###\n",
            " #   ## ###        #   #####  #        #   #         #   ## \n",
            "  ## ###  #   # ##   #        #       #  ###  ##    ##    # \n",
            "## ### ##    #          ## ##### ####  ##   #  # # #        \n",
            "  #   ##  ###       ####   ###  ###### #  ##  ########  ##  \n",
            "  # ###    ##   # #     #        ## ##          ###    #    \n",
            "    ##  #          #   #            #     #     #       #   \n",
            "    ###  ####     #  #####               ###         ###    \n",
            "  #   ################ ## # ###    #    #  ##   #           \n",
            "   #   ##    #####     #    ## ##         ###      #######  \n",
            "    # ###    #         #       #       #   # # #      ###  #\n",
            "     ## # # #    #  # #        ##        # ##      #  #  #  \n",
            "       ### ##   # ####    #    #    ##   ##     #    ###### \n"
          ],
          "name": "stdout"
        }
      ]
    },
    {
      "cell_type": "code",
      "metadata": {
        "colab": {
          "base_uri": "https://localhost:8080/"
        },
        "id": "CqPEfqueAOeW",
        "outputId": "97b70b4e-6263-4e35-ca31-85da4ae43269"
      },
      "source": [
        "# Dictionaries & Structuring Data - Tic-Tac-Toe Board\n",
        "theBoard = {'top-L': 'O', 'top-M': 'O', 'top-R': 'O',\n",
        "\t          'mid-L': 'X', 'mid-M': 'X', 'mid-R': ' ',\n",
        "\t          'low-L': ' ', 'low-M': ' ', 'low-R': 'X'}\n",
        "def printBoard(board):\n",
        "    print(board['top-L'] + '|' + board['top-M'] + '|' + board['top-R'])\n",
        "    print('-+-+-')\n",
        "    print(board['mid-L'] + '|' + board['mid-M'] + '|' + board['mid-R'])\n",
        "    print('-+-+-')\n",
        "    print(board['low-L'] + '|' + board['low-M'] + '|' + board['low-R'])\n",
        "printBoard(theBoard)"
      ],
      "execution_count": null,
      "outputs": [
        {
          "output_type": "stream",
          "text": [
            "O|O|O\n",
            "-+-+-\n",
            "X|X| \n",
            "-+-+-\n",
            " | |X\n"
          ],
          "name": "stdout"
        }
      ]
    }
  ]
}